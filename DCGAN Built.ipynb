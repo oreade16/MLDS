{
 "cells": [
  {
   "attachments": {},
   "cell_type": "markdown",
   "metadata": {},
   "source": [
    "## Building a DCGAN from Scratch"
   ]
  },
  {
   "attachments": {},
   "cell_type": "markdown",
   "metadata": {},
   "source": [
    "The first order of the day is to build the generator and the discriminator.\n"
   ]
  },
  {
   "cell_type": "code",
   "execution_count": 1,
   "metadata": {},
   "outputs": [],
   "source": [
    "import torch\n",
    "import torch.nn as nn\n"
   ]
  },
  {
   "cell_type": "code",
   "execution_count": 2,
   "metadata": {},
   "outputs": [],
   "source": [
    "z = torch.rand(50,1,100)"
   ]
  },
  {
   "attachments": {},
   "cell_type": "markdown",
   "metadata": {},
   "source": [
    "Here we build the DCGAN generator from the LSUN generator"
   ]
  },
  {
   "cell_type": "code",
   "execution_count": 11,
   "metadata": {},
   "outputs": [],
   "source": [
    "class DCGAN_generator (nn.Module):\n",
    "    def __init__(self,z):\n",
    "        super().__init__()\n",
    "        # Determining the batch size\n",
    "        self.batch_size = z.shape[0]\n",
    "\n",
    "        self.projection = nn.Linear(100,16384)\n",
    "        self.conv_1 = nn.Sequential(nn.ConvTranspose2d(in_channels=1024,out_channels=512,kernel_size=2,stride=2,padding=0),nn.BatchNorm2d(512),nn.ReLU())\n",
    "        self.conv_2 = nn.Sequential(nn.ConvTranspose2d(in_channels=512,out_channels=256,kernel_size=2,stride=2,padding=0),nn.BatchNorm2d(256),nn.ReLU())\n",
    "        self.conv_3 = nn.Sequential(nn.ConvTranspose2d(in_channels=256,out_channels=128,kernel_size=2,stride=2,padding=0),nn.BatchNorm2d(128),nn.ReLU())\n",
    "        self.conv_4 = nn.Sequential(nn.ConvTranspose2d(in_channels=128,out_channels=3,kernel_size=2,stride=2,padding=0),nn.Tanh())\n",
    "     \n",
    "        \n",
    "\n",
    "\n",
    "    \n",
    "    def forward(self, x):\n",
    "        \n",
    "    \n",
    "        \n",
    "        x = self.projection(x)\n",
    "        print(self.batch_size)\n",
    "        x = x.view(self.batch_size,1024,4,4)\n",
    "       \n",
    "        \n",
    "\n",
    "        x = self.conv_1(x)\n",
    "        \n",
    "        x = self.conv_2(x)\n",
    "        x = self.conv_3(x) \n",
    "        x = self.conv_4(x)\n",
    "        \n",
    "\n",
    "        return x   \n"
   ]
  },
  {
   "cell_type": "code",
   "execution_count": 5,
   "metadata": {},
   "outputs": [
    {
     "name": "stdout",
     "output_type": "stream",
     "text": [
      "50\n"
     ]
    }
   ],
   "source": [
    "model = DCGAN_generator(z)\n",
    "output = model(z)\n"
   ]
  },
  {
   "attachments": {},
   "cell_type": "markdown",
   "metadata": {},
   "source": [
    "Also did the LSUN discriminator"
   ]
  },
  {
   "cell_type": "code",
   "execution_count": 6,
   "metadata": {},
   "outputs": [],
   "source": [
    "class DCGAN_discriminator(nn.Module):\n",
    "    def __init__(self,z):\n",
    "        super().__init__()\n",
    "        self.batch_size = z.shape[0]\n",
    "        \n",
    "        self.conv_1 = nn.Sequential(nn.Conv2d(in_channels=3,out_channels=128,kernel_size=2,stride=2),nn.LeakyReLU())\n",
    "        self.conv_2 = nn.Sequential(nn.Conv2d(in_channels=128,out_channels=256,kernel_size=2,stride=2),nn.BatchNorm2d(256),nn.LeakyReLU())\n",
    "        self.conv_3 = nn.Sequential(nn.Conv2d(in_channels=256,out_channels=512,kernel_size=2,stride=2),nn.BatchNorm2d(512),nn.LeakyReLU())\n",
    "        self.conv_4 = nn.Sequential(nn.Conv2d(in_channels=512,out_channels=1024,kernel_size=2,stride=2),nn.BatchNorm2d(1024),nn.LeakyReLU())\n",
    "        self.flatten = nn.Flatten(0,3)\n",
    "        self.fc1 = nn.Linear(16384*self.batch_size,1*self.batch_size)\n",
    "        self.sigmoid = nn.Sigmoid()\n",
    "\n",
    "    def forward(self,x):\n",
    "        \n",
    "        \n",
    "        x = self.conv_1(x)\n",
    "        x = self.conv_2(x)\n",
    "        x = self.conv_3(x)\n",
    "        x = self.conv_4(x)\n",
    "        x = self.flatten(x)\n",
    "        x = self.fc1(x)\n",
    "        x = self.sigmoid(x)\n",
    "        \n",
    "\n",
    "        return x\n",
    "        \n"
   ]
  },
  {
   "cell_type": "code",
   "execution_count": 7,
   "metadata": {},
   "outputs": [],
   "source": [
    "class DCGAN(nn.Module):\n",
    "    def __init__(self,z):\n",
    "        super().__init__()\n",
    "        self.z = z\n",
    "        self.generated_output = DCGAN_generator(z)\n",
    "        \n",
    "\n",
    "    def forward(self,z):\n",
    "        output = self.generated_output(z)\n",
    "        model = DCGAN_discriminator(output)\n",
    "        output = model(output)\n",
    "        return output\n",
    "\n",
    "\n"
   ]
  },
  {
   "cell_type": "code",
   "execution_count": 10,
   "metadata": {},
   "outputs": [
    {
     "name": "stdout",
     "output_type": "stream",
     "text": [
      "50\n",
      "tensor([0.4403, 0.3142, 0.4655, 0.4392, 0.3537, 0.4460, 0.3353, 0.4553, 0.4852,\n",
      "        0.4968, 0.3494, 0.5184, 0.5660, 0.4248, 0.4656, 0.4797, 0.4389, 0.4486,\n",
      "        0.4599, 0.4747, 0.5460, 0.6025, 0.3353, 0.5050, 0.5015, 0.3402, 0.4296,\n",
      "        0.3742, 0.6848, 0.5963, 0.4113, 0.4749, 0.6757, 0.4915, 0.4695, 0.4984,\n",
      "        0.4246, 0.5147, 0.4786, 0.3943, 0.4062, 0.4584, 0.4969, 0.5189, 0.3490,\n",
      "        0.5025, 0.7390, 0.4787, 0.4784, 0.4570], grad_fn=<SigmoidBackward0>)\n"
     ]
    }
   ],
   "source": [
    "model = DCGAN(z)\n",
    "output = model(z)\n",
    "print(output)\n"
   ]
  }
 ],
 "metadata": {
  "kernelspec": {
   "display_name": "Python 3",
   "language": "python",
   "name": "python3"
  },
  "language_info": {
   "codemirror_mode": {
    "name": "ipython",
    "version": 3
   },
   "file_extension": ".py",
   "mimetype": "text/x-python",
   "name": "python",
   "nbconvert_exporter": "python",
   "pygments_lexer": "ipython3",
   "version": "3.8.6"
  },
  "orig_nbformat": 4,
  "vscode": {
   "interpreter": {
    "hash": "0adcc2737ebf6a4a119f135174df96668767fca1ef1112612db5ecadf2b6d608"
   }
  }
 },
 "nbformat": 4,
 "nbformat_minor": 2
}
